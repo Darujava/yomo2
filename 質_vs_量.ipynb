{
  "nbformat": 4,
  "nbformat_minor": 0,
  "metadata": {
    "colab": {
      "provenance": [],
      "name": "質 vs 量.ipynb",
      "history_visible": true,
      "include_colab_link": true
    },
    "kernelspec": {
      "name": "python3",
      "display_name": "Python 3"
    },
    "language_info": {
      "name": "python"
    }
  },
  "cells": [
    {
      "cell_type": "markdown",
      "metadata": {
        "id": "view-in-github",
        "colab_type": "text"
      },
      "source": [
        "<a href=\"https://colab.research.google.com/github/Darujava/yomo2/blob/memo/%E8%B3%AA_vs_%E9%87%8F.ipynb\" target=\"_parent\"><img src=\"https://colab.research.google.com/assets/colab-badge.svg\" alt=\"Open In Colab\"/></a>"
      ]
    },
    {
      "cell_type": "code",
      "source": [
        "import random\n",
        "\n",
        "def simulate_game(trials):\n",
        "    wins = 0\n",
        "    for _ in range(trials):\n",
        "        result = random.choice([\"はずれ\", \"あたり\"])\n",
        "        if result == \"あたり\":\n",
        "            wins += 1\n",
        "\n",
        "    probability = wins / trials\n",
        "    return probability\n",
        "\n",
        "# Simulate 100 trials\n",
        "trials = 100\n",
        "win_probability = simulate_game(trials)\n",
        "\n",
        "print(f\"実施回数: {trials}\")\n",
        "print(f\"質 vs 量: {win_probability:.2%}\")\n"
      ],
      "metadata": {
        "colab": {
          "base_uri": "https://localhost:8080/"
        },
        "id": "BpEIStYlMnAB",
        "outputId": "0ee81776-ca1c-49c2-e17b-4ca3aa471948"
      },
      "execution_count": 1,
      "outputs": [
        {
          "output_type": "stream",
          "name": "stdout",
          "text": [
            "実施回数: 100\n",
            "質 vs 量: 54.00%\n"
          ]
        }
      ]
    },
    {
      "cell_type": "code",
      "source": [
        "import random\n",
        "\n",
        "def decide_quality_or_quantity():\n",
        "    decision = random.choice([\"質\", \"量\"])\n",
        "    return decision\n",
        "\n",
        "result = decide_quality_or_quantity()\n",
        "print(f\"優先される事項は: {result} である\")\n",
        "\n"
      ],
      "metadata": {
        "colab": {
          "base_uri": "https://localhost:8080/"
        },
        "id": "AHbgCMscNHIM",
        "outputId": "7491a77d-eb47-4661-bb9b-a230be9ff60e"
      },
      "execution_count": 6,
      "outputs": [
        {
          "output_type": "stream",
          "name": "stdout",
          "text": [
            "優先される事項は: 質 である\n"
          ]
        }
      ]
    }
  ]
}